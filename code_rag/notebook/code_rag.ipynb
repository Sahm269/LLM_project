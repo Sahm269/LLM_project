{
 "cells": [
  {
   "cell_type": "code",
   "execution_count": 11,
   "metadata": {},
   "outputs": [],
   "source": [
    "import pandas as pd\n",
    "import os\n",
    "import pickle\n",
    "import numpy as np\n",
    "\n",
    "# Chemin du fichier Parquet avec les données clean (177 recettes)\n",
    "file_path = \"../data/cleaned_data.parquet\"\n",
    "\n",
    "# Charger les données clean\n",
    "df = pd.read_parquet(file_path)\n",
    "\n",
    "# Charger fichier embeddings des données clean\n",
    "with open(\"../data/embeddings.pkl\", \"rb\") as f:\n",
    "    embeddings = pickle.load(f)"
   ]
  },
  {
   "cell_type": "code",
   "execution_count": 12,
   "metadata": {},
   "outputs": [],
   "source": [
    "# #Ou fichier avec toutes les recettes  : (2676 recettes)\n",
    "\n",
    "# file_path = \"../data/recettes_rag.csv\"\n",
    "\n",
    "# df = pd.read_csv(file_path, encoding=\"utf-8\", sep=\";\")\n",
    "\n",
    "# #et charger les embeddings de toutes les recettes\n",
    "# #Chemin du fichier d'embeddings\n",
    "# embedding_path = \"../data/recettes_embeddings.parquet\"\n",
    "# # Charger les embeddings\n",
    "# df_embeddings = pd.read_parquet(embedding_path)\n",
    "# # Convertir la colonne \"embeddings\" en `numpy.array`\n",
    "# embeddings = np.array(df_embeddings[\"embeddings\"].tolist(), dtype=np.float32)"
   ]
  },
  {
   "cell_type": "code",
   "execution_count": 18,
   "metadata": {},
   "outputs": [
    {
     "data": {
      "text/plain": [
       "2676"
      ]
     },
     "execution_count": 18,
     "metadata": {},
     "output_type": "execute_result"
    }
   ],
   "source": [
    "len(embeddings)"
   ]
  },
  {
   "cell_type": "code",
   "execution_count": 3,
   "metadata": {},
   "outputs": [
    {
     "name": "stderr",
     "output_type": "stream",
     "text": [
      "c:\\Users\\Ihnhn\\anaconda3\\envs\\env_td_llm\\lib\\site-packages\\tqdm\\auto.py:21: TqdmWarning: IProgress not found. Please update jupyter and ipywidgets. See https://ipywidgets.readthedocs.io/en/stable/user_install.html\n",
      "  from .autonotebook import tqdm as notebook_tqdm\n"
     ]
    }
   ],
   "source": [
    "from sentence_transformers import SentenceTransformer\n",
    "import numpy as np\n",
    "\n",
    "# Charger un modèle d'embedding\n",
    "embedding_model = SentenceTransformer('dangvantuan/french-document-embedding', trust_remote_code=True)"
   ]
  },
  {
   "cell_type": "code",
   "execution_count": null,
   "metadata": {},
   "outputs": [],
   "source": [
    "# # Générer les embeddings 1 fois puis enregistrer fichier\n",
    "\n",
    "# Ajouter une colonne combinée pour les embeddings\n",
    "#df[\"combined_text\"] = df[\"Titre\"] + \" - \" + df[\"Infos\"] + \" - \" + df[\"Ingrédients\"] + \" - \" + df[\"Instructions\"] + \" - \" + df[\"Temps de préparation\"] + \" - \" + df[\"Infos régime\"] + \" - \" + df['Valeurs pour 100g'] + \" - \" + df['Valeurs par portion']\n",
    "\n",
    "# embeddings = embedding_model.encode(df[\"combined_text\"].tolist(), convert_to_numpy=True)\n",
    "# # Vérifier la dimension des embeddings\n",
    "# print(f\"Dimension des embeddings générés : {embeddings.shape[1]}\")  # 768\n",
    "\n",
    "# import pickle\n",
    "# # Sauvegarde des embeddings\n",
    "# with open(\"embeddings.pkl\", \"wb\") as f:\n",
    "#     pickle.dump(embeddings, f)"
   ]
  },
  {
   "cell_type": "code",
   "execution_count": 15,
   "metadata": {},
   "outputs": [
    {
     "name": "stdout",
     "output_type": "stream",
     "text": [
      "✅ Collection 'recettes' supprimée avec succès.\n"
     ]
    }
   ],
   "source": [
    "import chromadb\n",
    "\n",
    "# Initialiser ChromaDB (avec persistance locale)\n",
    "chroma_client = chromadb.PersistentClient(path=\"./chroma_db\")\n",
    "\n",
    "# Supprimer l'ancienne collection si elle existe\n",
    "try:\n",
    "    chroma_client.delete_collection(\"recettes\")\n",
    "    print(\"✅ Collection 'recettes' supprimée avec succès.\")\n",
    "except:\n",
    "    print(\"⚠️ Aucune collection 'recettes' à supprimer, on continue...\")"
   ]
  },
  {
   "cell_type": "code",
   "execution_count": 16,
   "metadata": {},
   "outputs": [
    {
     "name": "stdout",
     "output_type": "stream",
     "text": [
      "✅ Nouvelle collection créée avec dimension 768.\n"
     ]
    }
   ],
   "source": [
    "# Créer une nouvelle collection avec la bonne dimension\n",
    "collection = chroma_client.get_or_create_collection(name=\"recettes\", metadata={\"dimension\": 768})\n",
    "\n",
    "print(\"✅ Nouvelle collection créée avec dimension 768.\")"
   ]
  },
  {
   "cell_type": "code",
   "execution_count": 17,
   "metadata": {},
   "outputs": [
    {
     "name": "stdout",
     "output_type": "stream",
     "text": [
      "✅ Tous les embeddings ont été ajoutés dans ChromaDB !\n"
     ]
    }
   ],
   "source": [
    "# Ajouter les recettes dans ChromaDB\n",
    "for i, (embedding, row) in enumerate(zip(embeddings, df.iterrows())):\n",
    "    _, row_data = row\n",
    "    collection.add(\n",
    "        ids=[str(i)],  # ID unique\n",
    "        embeddings=[embedding.tolist()],  # Embedding sous forme de liste\n",
    "        metadatas=[{ \n",
    "            \"Titre\": row_data[\"Titre\"],\n",
    "            \"Temps de préparation\": row_data[\"Temps de préparation\"],\n",
    "            \"Ingrédients\": row_data[\"Ingrédients\"],\n",
    "            \"Instructions\": row_data[\"Instructions\"],\n",
    "            \"Infos régime\": row_data[\"Infos régime\"],\n",
    "            \"Valeurs pour 100g\": row_data[\"Valeurs pour 100g\"],\n",
    "            \"Valeurs par portion\": row_data[\"Valeurs par portion\"]\n",
    "        }]\n",
    "    )\n",
    "\n",
    "print(\"✅ Tous les embeddings ont été ajoutés dans ChromaDB !\")"
   ]
  },
  {
   "cell_type": "code",
   "execution_count": 19,
   "metadata": {},
   "outputs": [],
   "source": [
    "def search_recipe(query, top_k=3):\n",
    "    query_embedding = embedding_model.encode([query])[0].tolist()\n",
    "    results = collection.query(\n",
    "        query_embeddings=[query_embedding],\n",
    "        n_results=top_k\n",
    "    )\n",
    "    return results[\"metadatas\"][0] if results[\"ids\"] else []"
   ]
  },
  {
   "cell_type": "code",
   "execution_count": 20,
   "metadata": {},
   "outputs": [
    {
     "name": "stdout",
     "output_type": "stream",
     "text": [
      "🔹 Fondant au Chocolat, des Commis\n",
      "🥦 Ingrédients: Beurre demi-sel : 125 g; Sucre : 100 g; Poudre d’amande : 70 g; Chocolat noir : 160 g; Farine de blé : 120 g\n",
      " Laissez-le tiédir avant de lengloutir !2 à 5 min selon votre four.joutez les œufs 1 par 1, en mélangeant bien au fouet entre chaque. | 4. Sur plaque : Chemisez* un moule rond à bord haut denviron 20 à 25 cm de diamètre et disposez-le sur une plaque de cuisson. Ainsi, pas daccident de parcours entre le plan de travail et le four ! | 5. Ultime étape : Versez la pâte dans le moule à laide dune maryse. Ne mangez pas tout à même le saladier ! Enfournez-le dans le four chaud pour 18 min. Pour vérifier la cuisson, plantez un couteau dans le gâteau , la lame doit ressortir humide. | 6. Instant hautement chocolaté : À la sortie du four, le gâteau peut être légèrement tremblotant.\n",
      "\n",
      "🔹 Gâteau au Chocolat, Noir, Cœur Coulant au Chocolat Blanc\n",
      "🥦 Ingrédients: Chocolat blanc : 90 g; Crème fraîche : 70 g; Chocolat noir : 100 g; Beurre doux : 110 g; Sucre : 65 g; Farine de blé : 65 g\n",
      "📖 Instructions: 1. La crème au chocolat blanc : 1. Mettre le chocolat blanc dans le bol et râper 10 sec/vitesse 9 . Racler les parois du bol à laide de la spatule. 2. Faire fondre 5 min/50°C/vitesse 1 . 3. Ajouter la crème fraîche et chauffer 5 min/50°C/vitesse 1 . Transvaser la crème au chocolat dans un bac à glaçons. Laisser refroidir puis mettre au congélateur pendant 2 heures environ. | 2. Le gâteau au chocolat noir : 1. Préchauffer le four à 210 °C (Th. 7). Beurrer et fariner 4 ramequins. 2. Mettre le chocolat noir dans le bol et râper 15 sec/vitesse 9 . Racler les parois du bol à laide de la spatule. 3. Faire fondre 10 min/50°C/ vitesse 1 . 4. Insérer le fouet. Ajouter les œufs, le beurre, le sucre, la farine (cf quantité) et le piment dEspelette (optionnel), puis fouetter 2 min/vitesse 4 . Racler les parois du bol à laide de la spatule. 5. Fouetter de nouveau 2 min/vitesse 4 . Retirer le fouet. Répartir la moitié de la préparation entre 4 ramequins en céramique. Poser au centre de chaque ramequin une grosse noix de crème au chocolat blanc. Couvrir de la préparation restante. Enfourner et cuire 6-8 minutes à 210 °C. A la sortie du four, saupoudrer de copeaux de chocolat blanc et de piment dEspelette (optionnel), puis servir aussitôt pour que le cœur soit coulant.\n",
      "\n",
      "🔹 Gâteau Onctueux, Poire Chocolat\n",
      "🥦 Ingrédients: Poire : 3 pièces; Chocolat noir : 250 g; Beurre : 80 g; Sucre : 150 g; Poudre d’amandes : 80 g; Farine de blé : 30 g; Levure chimique : 1 pièce; Crème liquide : 100 g\n",
      " Versez le nappage chaud dessus.x*. Jusquà obtenir un nappage lisse. | 6. Complètement chocolat : Piquez un couteau dans le gâteau pour vérifier la cuisson. La lame doit être légèrement humide. Laissez tiédir le gâteau et démoulez-le sur un plat de service.\n",
      "\n"
     ]
    }
   ],
   "source": [
    "#chercher recettes\n",
    "query = \"Gateau chocolat fondant\"\n",
    "recipes_found = search_recipe(query)\n",
    "\n",
    "for recipe in recipes_found:\n",
    "    print(f\"🔹 {recipe['Titre']}\\n🥦 Ingrédients: {recipe['Ingrédients']}\\n📖 Instructions: {recipe['Instructions']}\\n\")"
   ]
  },
  {
   "cell_type": "code",
   "execution_count": 21,
   "metadata": {},
   "outputs": [],
   "source": [
    "from mistralai import Mistral\n",
    "\n",
    "# Charger l'API Mistral\n",
    "api_key = \"z5bIFnE1fro0EjEH2Dm68akoLmPKBIjv\"  # Clé API\n",
    "mistral_client = Mistral(api_key=api_key)\n",
    "\n",
    "\n",
    "def generate_response(query):\n",
    "    # 🔹 Rechercher une recette pertinente avec ChromaDB\n",
    "    recipes = search_recipe(query, top_k=1)\n",
    "\n",
    "    # 🔹 Si aucune recette \n",
    "    if not recipes:\n",
    "        print(\"🚫 Aucune recette trouvée. Mistral NE répond pas.\")\n",
    "        return \"Désolé, je ne peux répondre qu'avec les recettes disponibles dans ma base.\"\n",
    "\n",
    "    # 🔹 Construire le contexte avec la recette trouvée\n",
    "    recipe = recipes[0]\n",
    "    context = f\"\"\"Voici une recette basée sur ta recherche :\n",
    "    **Nom :** {recipe['Titre']}\n",
    "    **Temps de préparation :** {recipe['Temps de préparation']}\n",
    "    **Ingrédients :** {recipe['Ingrédients']}\n",
    "    **Instructions :** {recipe['Instructions']}\n",
    "    **Valeurs nutritionnelles (100g) :** {recipe['Valeurs pour 100g']}\n",
    "    **Valeurs nutritionnelles (par portion) :** {recipe['Valeurs par portion']}\"\"\"\n",
    "\n",
    "    # 🔹 Générer une réponse avec Mistral\n",
    "    chat_response = mistral_client.chat.complete(\n",
    "        model=\"mistral-large-latest\",  \n",
    "        messages=[\n",
    "            {\"role\": \"system\", \"content\": \"Tu es un assistant culinaire qui propose des recettes healthy disponibles dans la base de données.\"},\n",
    "            {\"role\": \"assistant\", \"content\": context},\n",
    "            {\"role\": \"user\", \"content\": query},\n",
    "        ],\n",
    "        temperature=0.1,  # Valeur entre 0 et 1 (plus haut = plus créatif)\n",
    "        top_p=0.9,        # On garde les 90% des mots les plus probables\n",
    "        # max_tokens=512,   # Limite la longueur de la réponse\n",
    "        presence_penalty=0.0,  # 0 = neutre, >0 = pousse à explorer d'autres sujets\n",
    "        frequency_penalty=0.0  # 0 = neutre, >0 = réduit la répétition\n",
    "    )\n",
    "\n",
    "    return chat_response.choices[0].message.content"
   ]
  },
  {
   "cell_type": "code",
   "execution_count": 23,
   "metadata": {},
   "outputs": [
    {
     "name": "stdout",
     "output_type": "stream",
     "text": [
      "Bien sûr ! Voici une recette de Gâteau Onctueux, Poire Chocolat :\n",
      "\n",
      "### Gâteau Onctueux, Poire Chocolat\n",
      "\n",
      "#### Temps de préparation :\n",
      "25 minutes\n",
      "\n",
      "#### Ingrédients :\n",
      "- Poires : 3 pièces\n",
      "- Chocolat noir : 250 g\n",
      "- Beurre : 80 g\n",
      "- Sucre : 150 g\n",
      "- Poudre d’amandes : 80 g\n",
      "- Farine de blé : 30 g\n",
      "- Levure chimique : 1 sachet\n",
      "- Crème liquide : 100 g\n",
      "\n",
      "#### Instructions :\n",
      "\n",
      "1. **Préparation des poires au sirop :**\n",
      "   - Sortez le beurre du frigo pour qu'il ramollisse.\n",
      "   - Dans une casserole, faites bouillir de l'eau avec 70 g de sucre.\n",
      "   - Épluchez les poires en gardant la queue.\n",
      "   - Plongez les poires dans le sirop et laissez-les cuire 10 minutes à feu moyen.\n",
      "   - Laissez-les ensuite tiédir hors du sirop. Gardez le sirop pour parfumer une salade de fruits.\n",
      "\n",
      "2. **Préparation du chocolat :**\n",
      "   - Préchauffez le four à 180°C en chaleur tournante.\n",
      "   - Faites fondre 150 g de chocolat au bain-marie ou quelques secondes au micro-ondes. Laissez tiédir le chocolat hors du feu et gardez la casserole pour le nappage.\n",
      "\n",
      "3. **Préparation de l'appareil :**\n",
      "   - Dans un saladier, fouettez le beurre mou avec le reste du sucre jusqu'à ce que le mélange blanchisse.\n",
      "   - Ajoutez les œufs tout en fouettant, puis le chocolat fondu.\n",
      "   - Ajoutez la poudre d'amandes, la farine, la levure chimique et une pincée de sel.\n",
      "   - Mélangez bien pour finir l'appareil.\n",
      "\n",
      "4. **Cuisson du gâteau :**\n",
      "   - Beurrez et farinez le moule pour le chemiser. Utilisez un moule à charnière pour un démoulage facile.\n",
      "   - Versez l'appareil dans le moule et enfoncez les poires dedans.\n",
      "   - Enfournez pendant 40 minutes.\n",
      "\n",
      "5. **Préparation du nappage :**\n",
      "   - Attendez que le gâteau soit cuit pour réaliser le nappage.\n",
      "   - Dans la casserole, disposez le reste du chocolat et la crème.\n",
      "   - Faites fondre le tout à feu doux jusqu'à obtenir un nappage lisse.\n",
      "\n",
      "6. **Finition :**\n",
      "   - Piquez un couteau dans le gâteau pour vérifier la cuisson. La lame doit être légèrement humide.\n",
      "   - Laissez tiédir le gâteau et démoulez-le sur un plat de service.\n",
      "   - Versez le nappage chaud dessus.\n",
      "\n",
      "#### Valeurs nutritionnelles (100g) :\n",
      "- Énergie : 156 kcal (653 kJ)\n",
      "- Protéines : 2,92 g\n",
      "- Lipides : 9,13 g\n",
      "- Fibres : 0,56 g\n",
      "- Glucides : 14,62 g\n",
      "- Graisses saturées : 4,41 g\n",
      "- Sucres : 12,76 g\n",
      "- Sel : 0,05 g\n",
      "\n",
      "#### Valeurs nutritionnelles (par portion) :\n",
      "- Énergie : 982 kcal (4 111 kJ)\n",
      "- Protéines : 18,39 g\n",
      "- Lipides : 57,47 g\n",
      "- Fibres : 3,55 g\n",
      "- Glucides : 91,96 g\n",
      "- Graisses saturées : 27,75 g\n",
      "- Sucres : 80,27 g\n",
      "- Sel : 0,3 g\n",
      "\n",
      "Bon appétit !\n"
     ]
    }
   ],
   "source": [
    "#query = \"Fais moi un programme pour préparer un marathon\"\n",
    "query = \"Donne moi une recette de Gâteau Onctueux, Poire Chocolat\"\n",
    "response = generate_response(query)\n",
    "print(response)"
   ]
  }
 ],
 "metadata": {
  "kernelspec": {
   "display_name": "env_td_llm",
   "language": "python",
   "name": "python3"
  },
  "language_info": {
   "codemirror_mode": {
    "name": "ipython",
    "version": 3
   },
   "file_extension": ".py",
   "mimetype": "text/x-python",
   "name": "python",
   "nbconvert_exporter": "python",
   "pygments_lexer": "ipython3",
   "version": "3.10.16"
  }
 },
 "nbformat": 4,
 "nbformat_minor": 2
}
